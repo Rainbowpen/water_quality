{
  "nbformat": 4,
  "nbformat_minor": 0,
  "metadata": {
    "colab": {
      "name": "water_quality-ann.ipynb",
      "provenance": [],
      "authorship_tag": "ABX9TyM5cdBMovja5A1mewBJFom6",
      "include_colab_link": true
    },
    "kernelspec": {
      "name": "python3",
      "display_name": "Python 3"
    },
    "language_info": {
      "name": "python"
    }
  },
  "cells": [
    {
      "cell_type": "markdown",
      "metadata": {
        "id": "view-in-github",
        "colab_type": "text"
      },
      "source": [
        "<a href=\"https://colab.research.google.com/github/Rainbowpen/water_quality/blob/main/water_quality_ann.ipynb\" target=\"_parent\"><img src=\"https://colab.research.google.com/assets/colab-badge.svg\" alt=\"Open In Colab\"/></a>"
      ]
    },
    {
      "cell_type": "markdown",
      "metadata": {
        "id": "UD-CVbhsUT15"
      },
      "source": [
        "# Water Quaility\n",
        "Kaggle water quality dataset web page: https://www.kaggle.com/adityakadiwal/water-potability/version/3\n",
        "\n",
        "CSV file: https://www.kaggle.com/adityakadiwal/water-potability/download\n",
        "\n",
        "most code copy from [this guys](https://www.kaggle.com/vishweshsalodkar/ann-on-glass-classification)"
      ]
    },
    {
      "cell_type": "code",
      "metadata": {
        "colab": {
          "base_uri": "https://localhost:8080/"
        },
        "id": "KpUtJkcWHVZE",
        "outputId": "f3062b0f-9c74-4b91-dea1-daf7ee2c315a"
      },
      "source": [
        "%tensorflow_version 2.x  # this line is not required unless you are in a notebook\n",
        "\n",
        "import numpy as np # linear algebra\n",
        "import pandas as pd # data processing, CSV file I/O (e.g. pd.read_csv)\n",
        "import tensorflow as tf\n",
        "import matplotlib.pyplot as plt\n"
      ],
      "execution_count": 1,
      "outputs": [
        {
          "output_type": "stream",
          "text": [
            "`%tensorflow_version` only switches the major version: 1.x or 2.x.\n",
            "You set: `2.x  # this line is not required unless you are in a notebook`. This will be interpreted as: `2.x`.\n",
            "\n",
            "\n",
            "TensorFlow 2.x selected.\n"
          ],
          "name": "stdout"
        }
      ]
    },
    {
      "cell_type": "code",
      "metadata": {
        "id": "XvUhcSH5LNvg"
      },
      "source": [
        "# Load dataset.\n",
        "data = pd.read_csv('./water_potability.csv')"
      ],
      "execution_count": 2,
      "outputs": []
    },
    {
      "cell_type": "code",
      "metadata": {
        "colab": {
          "base_uri": "https://localhost:8080/",
          "height": 206
        },
        "id": "3mVl9b0OLRvY",
        "outputId": "7abce439-1b1a-4b1b-e074-c88f9a230069"
      },
      "source": [
        "data.head()"
      ],
      "execution_count": 3,
      "outputs": [
        {
          "output_type": "execute_result",
          "data": {
            "text/html": [
              "<div>\n",
              "<style scoped>\n",
              "    .dataframe tbody tr th:only-of-type {\n",
              "        vertical-align: middle;\n",
              "    }\n",
              "\n",
              "    .dataframe tbody tr th {\n",
              "        vertical-align: top;\n",
              "    }\n",
              "\n",
              "    .dataframe thead th {\n",
              "        text-align: right;\n",
              "    }\n",
              "</style>\n",
              "<table border=\"1\" class=\"dataframe\">\n",
              "  <thead>\n",
              "    <tr style=\"text-align: right;\">\n",
              "      <th></th>\n",
              "      <th>ph</th>\n",
              "      <th>Hardness</th>\n",
              "      <th>Solids</th>\n",
              "      <th>Chloramines</th>\n",
              "      <th>Sulfate</th>\n",
              "      <th>Conductivity</th>\n",
              "      <th>Organic_carbon</th>\n",
              "      <th>Trihalomethanes</th>\n",
              "      <th>Turbidity</th>\n",
              "      <th>Potability</th>\n",
              "    </tr>\n",
              "  </thead>\n",
              "  <tbody>\n",
              "    <tr>\n",
              "      <th>0</th>\n",
              "      <td>NaN</td>\n",
              "      <td>204.890455</td>\n",
              "      <td>20791.318981</td>\n",
              "      <td>7.300212</td>\n",
              "      <td>368.516441</td>\n",
              "      <td>564.308654</td>\n",
              "      <td>10.379783</td>\n",
              "      <td>86.990970</td>\n",
              "      <td>2.963135</td>\n",
              "      <td>0</td>\n",
              "    </tr>\n",
              "    <tr>\n",
              "      <th>1</th>\n",
              "      <td>3.716080</td>\n",
              "      <td>129.422921</td>\n",
              "      <td>18630.057858</td>\n",
              "      <td>6.635246</td>\n",
              "      <td>NaN</td>\n",
              "      <td>592.885359</td>\n",
              "      <td>15.180013</td>\n",
              "      <td>56.329076</td>\n",
              "      <td>4.500656</td>\n",
              "      <td>0</td>\n",
              "    </tr>\n",
              "    <tr>\n",
              "      <th>2</th>\n",
              "      <td>8.099124</td>\n",
              "      <td>224.236259</td>\n",
              "      <td>19909.541732</td>\n",
              "      <td>9.275884</td>\n",
              "      <td>NaN</td>\n",
              "      <td>418.606213</td>\n",
              "      <td>16.868637</td>\n",
              "      <td>66.420093</td>\n",
              "      <td>3.055934</td>\n",
              "      <td>0</td>\n",
              "    </tr>\n",
              "    <tr>\n",
              "      <th>3</th>\n",
              "      <td>8.316766</td>\n",
              "      <td>214.373394</td>\n",
              "      <td>22018.417441</td>\n",
              "      <td>8.059332</td>\n",
              "      <td>356.886136</td>\n",
              "      <td>363.266516</td>\n",
              "      <td>18.436524</td>\n",
              "      <td>100.341674</td>\n",
              "      <td>4.628771</td>\n",
              "      <td>0</td>\n",
              "    </tr>\n",
              "    <tr>\n",
              "      <th>4</th>\n",
              "      <td>9.092223</td>\n",
              "      <td>181.101509</td>\n",
              "      <td>17978.986339</td>\n",
              "      <td>6.546600</td>\n",
              "      <td>310.135738</td>\n",
              "      <td>398.410813</td>\n",
              "      <td>11.558279</td>\n",
              "      <td>31.997993</td>\n",
              "      <td>4.075075</td>\n",
              "      <td>0</td>\n",
              "    </tr>\n",
              "  </tbody>\n",
              "</table>\n",
              "</div>"
            ],
            "text/plain": [
              "         ph    Hardness        Solids  ...  Trihalomethanes  Turbidity  Potability\n",
              "0       NaN  204.890455  20791.318981  ...        86.990970   2.963135           0\n",
              "1  3.716080  129.422921  18630.057858  ...        56.329076   4.500656           0\n",
              "2  8.099124  224.236259  19909.541732  ...        66.420093   3.055934           0\n",
              "3  8.316766  214.373394  22018.417441  ...       100.341674   4.628771           0\n",
              "4  9.092223  181.101509  17978.986339  ...        31.997993   4.075075           0\n",
              "\n",
              "[5 rows x 10 columns]"
            ]
          },
          "metadata": {
            "tags": []
          },
          "execution_count": 3
        }
      ]
    },
    {
      "cell_type": "code",
      "metadata": {
        "colab": {
          "base_uri": "https://localhost:8080/",
          "height": 282
        },
        "id": "JaESanjeXfyk",
        "outputId": "98b5b36a-0e7c-4888-d9ed-8832358122e7"
      },
      "source": [
        "data.Potability.value_counts().plot(kind='barh')"
      ],
      "execution_count": 4,
      "outputs": [
        {
          "output_type": "execute_result",
          "data": {
            "text/plain": [
              "<matplotlib.axes._subplots.AxesSubplot at 0x7f45f99a21d0>"
            ]
          },
          "metadata": {
            "tags": []
          },
          "execution_count": 4
        },
        {
          "output_type": "display_data",
          "data": {
            "image/png": "[encoded data removed]",
            "text/plain": [
              "<Figure size 432x288 with 1 Axes>"
            ]
          },
          "metadata": {
            "tags": [],
            "needs_background": "light"
          }
        }
      ]
    },
    {
      "cell_type": "code",
      "metadata": {
        "colab": {
          "base_uri": "https://localhost:8080/"
        },
        "id": "Vh7ozlXuftzn",
        "outputId": "8de09e91-6a6d-43e0-ab0e-f33c4e5ffdb7"
      },
      "source": [
        "(data.Potability.value_counts()[1] / len(data)) * 100"
      ],
      "execution_count": 5,
      "outputs": [
        {
          "output_type": "execute_result",
          "data": {
            "text/plain": [
              "39.010989010989015"
            ]
          },
          "metadata": {
            "tags": []
          },
          "execution_count": 5
        }
      ]
    },
    {
      "cell_type": "code",
      "metadata": {
        "colab": {
          "base_uri": "https://localhost:8080/"
        },
        "id": "eB3mYMpnTPIR",
        "outputId": "08fe1c01-932a-45bf-fb04-83df11ee251b"
      },
      "source": [
        "data.isnull().sum()"
      ],
      "execution_count": 6,
      "outputs": [
        {
          "output_type": "execute_result",
          "data": {
            "text/plain": [
              "ph                 491\n",
              "Hardness             0\n",
              "Solids               0\n",
              "Chloramines          0\n",
              "Sulfate            781\n",
              "Conductivity         0\n",
              "Organic_carbon       0\n",
              "Trihalomethanes    162\n",
              "Turbidity            0\n",
              "Potability           0\n",
              "dtype: int64"
            ]
          },
          "metadata": {
            "tags": []
          },
          "execution_count": 6
        }
      ]
    },
    {
      "cell_type": "markdown",
      "metadata": {
        "id": "rawoJ6s-TQet"
      },
      "source": [
        "because some column is NaN, so we need to drop it"
      ]
    },
    {
      "cell_type": "code",
      "metadata": {
        "id": "yazbp29RNrO5"
      },
      "source": [
        "data.drop(['ph','Sulfate','Trihalomethanes'],axis=1,inplace=True) # drop column if have nan in it\n",
        "#data = data.dropna() # drop single data if any column is nan"
      ],
      "execution_count": 7,
      "outputs": []
    },
    {
      "cell_type": "code",
      "metadata": {
        "colab": {
          "base_uri": "https://localhost:8080/",
          "height": 206
        },
        "id": "zAI5BZDEWX3t",
        "outputId": "1938118a-ea2a-42a3-fffd-8776bf0d2bc6"
      },
      "source": [
        "data.head()"
      ],
      "execution_count": 8,
      "outputs": [
        {
          "output_type": "execute_result",
          "data": {
            "text/html": [
              "<div>\n",
              "<style scoped>\n",
              "    .dataframe tbody tr th:only-of-type {\n",
              "        vertical-align: middle;\n",
              "    }\n",
              "\n",
              "    .dataframe tbody tr th {\n",
              "        vertical-align: top;\n",
              "    }\n",
              "\n",
              "    .dataframe thead th {\n",
              "        text-align: right;\n",
              "    }\n",
              "</style>\n",
              "<table border=\"1\" class=\"dataframe\">\n",
              "  <thead>\n",
              "    <tr style=\"text-align: right;\">\n",
              "      <th></th>\n",
              "      <th>Hardness</th>\n",
              "      <th>Solids</th>\n",
              "      <th>Chloramines</th>\n",
              "      <th>Conductivity</th>\n",
              "      <th>Organic_carbon</th>\n",
              "      <th>Turbidity</th>\n",
              "      <th>Potability</th>\n",
              "    </tr>\n",
              "  </thead>\n",
              "  <tbody>\n",
              "    <tr>\n",
              "      <th>0</th>\n",
              "      <td>204.890455</td>\n",
              "      <td>20791.318981</td>\n",
              "      <td>7.300212</td>\n",
              "      <td>564.308654</td>\n",
              "      <td>10.379783</td>\n",
              "      <td>2.963135</td>\n",
              "      <td>0</td>\n",
              "    </tr>\n",
              "    <tr>\n",
              "      <th>1</th>\n",
              "      <td>129.422921</td>\n",
              "      <td>18630.057858</td>\n",
              "      <td>6.635246</td>\n",
              "      <td>592.885359</td>\n",
              "      <td>15.180013</td>\n",
              "      <td>4.500656</td>\n",
              "      <td>0</td>\n",
              "    </tr>\n",
              "    <tr>\n",
              "      <th>2</th>\n",
              "      <td>224.236259</td>\n",
              "      <td>19909.541732</td>\n",
              "      <td>9.275884</td>\n",
              "      <td>418.606213</td>\n",
              "      <td>16.868637</td>\n",
              "      <td>3.055934</td>\n",
              "      <td>0</td>\n",
              "    </tr>\n",
              "    <tr>\n",
              "      <th>3</th>\n",
              "      <td>214.373394</td>\n",
              "      <td>22018.417441</td>\n",
              "      <td>8.059332</td>\n",
              "      <td>363.266516</td>\n",
              "      <td>18.436524</td>\n",
              "      <td>4.628771</td>\n",
              "      <td>0</td>\n",
              "    </tr>\n",
              "    <tr>\n",
              "      <th>4</th>\n",
              "      <td>181.101509</td>\n",
              "      <td>17978.986339</td>\n",
              "      <td>6.546600</td>\n",
              "      <td>398.410813</td>\n",
              "      <td>11.558279</td>\n",
              "      <td>4.075075</td>\n",
              "      <td>0</td>\n",
              "    </tr>\n",
              "  </tbody>\n",
              "</table>\n",
              "</div>"
            ],
            "text/plain": [
              "     Hardness        Solids  Chloramines  ...  Organic_carbon  Turbidity  Potability\n",
              "0  204.890455  20791.318981     7.300212  ...       10.379783   2.963135           0\n",
              "1  129.422921  18630.057858     6.635246  ...       15.180013   4.500656           0\n",
              "2  224.236259  19909.541732     9.275884  ...       16.868637   3.055934           0\n",
              "3  214.373394  22018.417441     8.059332  ...       18.436524   4.628771           0\n",
              "4  181.101509  17978.986339     6.546600  ...       11.558279   4.075075           0\n",
              "\n",
              "[5 rows x 7 columns]"
            ]
          },
          "metadata": {
            "tags": []
          },
          "execution_count": 8
        }
      ]
    },
    {
      "cell_type": "code",
      "metadata": {
        "id": "_KWUAacYLWtY"
      },
      "source": [
        "x = data.iloc[:,:6]\n",
        "y = data.iloc[:, -1]"
      ],
      "execution_count": 9,
      "outputs": []
    },
    {
      "cell_type": "code",
      "metadata": {
        "colab": {
          "base_uri": "https://localhost:8080/",
          "height": 206
        },
        "id": "wmcSa3VfLfmc",
        "outputId": "570d230d-a1d9-47c9-e153-a8255b37b29b"
      },
      "source": [
        "x.head()"
      ],
      "execution_count": 10,
      "outputs": [
        {
          "output_type": "execute_result",
          "data": {
            "text/html": [
              "<div>\n",
              "<style scoped>\n",
              "    .dataframe tbody tr th:only-of-type {\n",
              "        vertical-align: middle;\n",
              "    }\n",
              "\n",
              "    .dataframe tbody tr th {\n",
              "        vertical-align: top;\n",
              "    }\n",
              "\n",
              "    .dataframe thead th {\n",
              "        text-align: right;\n",
              "    }\n",
              "</style>\n",
              "<table border=\"1\" class=\"dataframe\">\n",
              "  <thead>\n",
              "    <tr style=\"text-align: right;\">\n",
              "      <th></th>\n",
              "      <th>Hardness</th>\n",
              "      <th>Solids</th>\n",
              "      <th>Chloramines</th>\n",
              "      <th>Conductivity</th>\n",
              "      <th>Organic_carbon</th>\n",
              "      <th>Turbidity</th>\n",
              "    </tr>\n",
              "  </thead>\n",
              "  <tbody>\n",
              "    <tr>\n",
              "      <th>0</th>\n",
              "      <td>204.890455</td>\n",
              "      <td>20791.318981</td>\n",
              "      <td>7.300212</td>\n",
              "      <td>564.308654</td>\n",
              "      <td>10.379783</td>\n",
              "      <td>2.963135</td>\n",
              "    </tr>\n",
              "    <tr>\n",
              "      <th>1</th>\n",
              "      <td>129.422921</td>\n",
              "      <td>18630.057858</td>\n",
              "      <td>6.635246</td>\n",
              "      <td>592.885359</td>\n",
              "      <td>15.180013</td>\n",
              "      <td>4.500656</td>\n",
              "    </tr>\n",
              "    <tr>\n",
              "      <th>2</th>\n",
              "      <td>224.236259</td>\n",
              "      <td>19909.541732</td>\n",
              "      <td>9.275884</td>\n",
              "      <td>418.606213</td>\n",
              "      <td>16.868637</td>\n",
              "      <td>3.055934</td>\n",
              "    </tr>\n",
              "    <tr>\n",
              "      <th>3</th>\n",
              "      <td>214.373394</td>\n",
              "      <td>22018.417441</td>\n",
              "      <td>8.059332</td>\n",
              "      <td>363.266516</td>\n",
              "      <td>18.436524</td>\n",
              "      <td>4.628771</td>\n",
              "    </tr>\n",
              "    <tr>\n",
              "      <th>4</th>\n",
              "      <td>181.101509</td>\n",
              "      <td>17978.986339</td>\n",
              "      <td>6.546600</td>\n",
              "      <td>398.410813</td>\n",
              "      <td>11.558279</td>\n",
              "      <td>4.075075</td>\n",
              "    </tr>\n",
              "  </tbody>\n",
              "</table>\n",
              "</div>"
            ],
            "text/plain": [
              "     Hardness        Solids  ...  Organic_carbon  Turbidity\n",
              "0  204.890455  20791.318981  ...       10.379783   2.963135\n",
              "1  129.422921  18630.057858  ...       15.180013   4.500656\n",
              "2  224.236259  19909.541732  ...       16.868637   3.055934\n",
              "3  214.373394  22018.417441  ...       18.436524   4.628771\n",
              "4  181.101509  17978.986339  ...       11.558279   4.075075\n",
              "\n",
              "[5 rows x 6 columns]"
            ]
          },
          "metadata": {
            "tags": []
          },
          "execution_count": 10
        }
      ]
    },
    {
      "cell_type": "code",
      "metadata": {
        "colab": {
          "base_uri": "https://localhost:8080/"
        },
        "id": "5iP6vu6SLqCX",
        "outputId": "52a8dba9-40fc-435d-ef82-eb50f46ee599"
      },
      "source": [
        "y.head()"
      ],
      "execution_count": 11,
      "outputs": [
        {
          "output_type": "execute_result",
          "data": {
            "text/plain": [
              "0    0\n",
              "1    0\n",
              "2    0\n",
              "3    0\n",
              "4    0\n",
              "Name: Potability, dtype: int64"
            ]
          },
          "metadata": {
            "tags": []
          },
          "execution_count": 11
        }
      ]
    },
    {
      "cell_type": "code",
      "metadata": {
        "id": "YK3OaUOVL03K"
      },
      "source": [
        "from sklearn.model_selection import train_test_split\n",
        "x_train, x_test, y_train, y_test = train_test_split(x, y, test_size = 0.2, random_state = 5678) # train:test is 8:2 and random_state is seed you can put any int number you want."
      ],
      "execution_count": 12,
      "outputs": []
    },
    {
      "cell_type": "code",
      "metadata": {
        "colab": {
          "base_uri": "https://localhost:8080/",
          "height": 424
        },
        "id": "-88Ss2_NL6ed",
        "outputId": "4034f703-b000-4c51-b0c2-0a78b1eb7ae9"
      },
      "source": [
        "x_train"
      ],
      "execution_count": 13,
      "outputs": [
        {
          "output_type": "execute_result",
          "data": {
            "text/html": [
              "<div>\n",
              "<style scoped>\n",
              "    .dataframe tbody tr th:only-of-type {\n",
              "        vertical-align: middle;\n",
              "    }\n",
              "\n",
              "    .dataframe tbody tr th {\n",
              "        vertical-align: top;\n",
              "    }\n",
              "\n",
              "    .dataframe thead th {\n",
              "        text-align: right;\n",
              "    }\n",
              "</style>\n",
              "<table border=\"1\" class=\"dataframe\">\n",
              "  <thead>\n",
              "    <tr style=\"text-align: right;\">\n",
              "      <th></th>\n",
              "      <th>Hardness</th>\n",
              "      <th>Solids</th>\n",
              "      <th>Chloramines</th>\n",
              "      <th>Conductivity</th>\n",
              "      <th>Organic_carbon</th>\n",
              "      <th>Turbidity</th>\n",
              "    </tr>\n",
              "  </thead>\n",
              "  <tbody>\n",
              "    <tr>\n",
              "      <th>2511</th>\n",
              "      <td>218.019530</td>\n",
              "      <td>15120.924716</td>\n",
              "      <td>3.124833</td>\n",
              "      <td>498.933519</td>\n",
              "      <td>14.836624</td>\n",
              "      <td>3.226035</td>\n",
              "    </tr>\n",
              "    <tr>\n",
              "      <th>1183</th>\n",
              "      <td>188.391725</td>\n",
              "      <td>20567.145930</td>\n",
              "      <td>7.443243</td>\n",
              "      <td>656.924128</td>\n",
              "      <td>16.274831</td>\n",
              "      <td>4.401628</td>\n",
              "    </tr>\n",
              "    <tr>\n",
              "      <th>213</th>\n",
              "      <td>186.918245</td>\n",
              "      <td>11642.727541</td>\n",
              "      <td>5.890684</td>\n",
              "      <td>363.506344</td>\n",
              "      <td>10.740146</td>\n",
              "      <td>3.462764</td>\n",
              "    </tr>\n",
              "    <tr>\n",
              "      <th>2564</th>\n",
              "      <td>192.041369</td>\n",
              "      <td>14704.906246</td>\n",
              "      <td>7.905769</td>\n",
              "      <td>429.766223</td>\n",
              "      <td>15.018138</td>\n",
              "      <td>5.075214</td>\n",
              "    </tr>\n",
              "    <tr>\n",
              "      <th>1371</th>\n",
              "      <td>218.394054</td>\n",
              "      <td>23774.258279</td>\n",
              "      <td>6.414852</td>\n",
              "      <td>413.004844</td>\n",
              "      <td>13.450580</td>\n",
              "      <td>5.168298</td>\n",
              "    </tr>\n",
              "    <tr>\n",
              "      <th>...</th>\n",
              "      <td>...</td>\n",
              "      <td>...</td>\n",
              "      <td>...</td>\n",
              "      <td>...</td>\n",
              "      <td>...</td>\n",
              "      <td>...</td>\n",
              "    </tr>\n",
              "    <tr>\n",
              "      <th>319</th>\n",
              "      <td>119.841905</td>\n",
              "      <td>26618.059637</td>\n",
              "      <td>6.105573</td>\n",
              "      <td>379.725182</td>\n",
              "      <td>10.899926</td>\n",
              "      <td>4.888061</td>\n",
              "    </tr>\n",
              "    <tr>\n",
              "      <th>2962</th>\n",
              "      <td>217.394778</td>\n",
              "      <td>3413.081633</td>\n",
              "      <td>5.670027</td>\n",
              "      <td>615.611167</td>\n",
              "      <td>14.926751</td>\n",
              "      <td>2.649424</td>\n",
              "    </tr>\n",
              "    <tr>\n",
              "      <th>2366</th>\n",
              "      <td>201.439065</td>\n",
              "      <td>32571.054518</td>\n",
              "      <td>9.959355</td>\n",
              "      <td>338.497815</td>\n",
              "      <td>13.261538</td>\n",
              "      <td>3.333243</td>\n",
              "    </tr>\n",
              "    <tr>\n",
              "      <th>2199</th>\n",
              "      <td>229.725348</td>\n",
              "      <td>22444.559412</td>\n",
              "      <td>5.702175</td>\n",
              "      <td>389.030889</td>\n",
              "      <td>15.501543</td>\n",
              "      <td>3.851154</td>\n",
              "    </tr>\n",
              "    <tr>\n",
              "      <th>2164</th>\n",
              "      <td>204.923285</td>\n",
              "      <td>24607.088098</td>\n",
              "      <td>8.080156</td>\n",
              "      <td>365.845248</td>\n",
              "      <td>10.807557</td>\n",
              "      <td>4.237698</td>\n",
              "    </tr>\n",
              "  </tbody>\n",
              "</table>\n",
              "<p>2620 rows × 6 columns</p>\n",
              "</div>"
            ],
            "text/plain": [
              "        Hardness        Solids  ...  Organic_carbon  Turbidity\n",
              "2511  218.019530  15120.924716  ...       14.836624   3.226035\n",
              "1183  188.391725  20567.145930  ...       16.274831   4.401628\n",
              "213   186.918245  11642.727541  ...       10.740146   3.462764\n",
              "2564  192.041369  14704.906246  ...       15.018138   5.075214\n",
              "1371  218.394054  23774.258279  ...       13.450580   5.168298\n",
              "...          ...           ...  ...             ...        ...\n",
              "319   119.841905  26618.059637  ...       10.899926   4.888061\n",
              "2962  217.394778   3413.081633  ...       14.926751   2.649424\n",
              "2366  201.439065  32571.054518  ...       13.261538   3.333243\n",
              "2199  229.725348  22444.559412  ...       15.501543   3.851154\n",
              "2164  204.923285  24607.088098  ...       10.807557   4.237698\n",
              "\n",
              "[2620 rows x 6 columns]"
            ]
          },
          "metadata": {
            "tags": []
          },
          "execution_count": 13
        }
      ]
    },
    {
      "cell_type": "code",
      "metadata": {
        "colab": {
          "base_uri": "https://localhost:8080/",
          "height": 424
        },
        "id": "CS3_V40BQypq",
        "outputId": "17f64061-02f2-4633-cdc8-41a69408792c"
      },
      "source": [
        "x_test"
      ],
      "execution_count": 14,
      "outputs": [
        {
          "output_type": "execute_result",
          "data": {
            "text/html": [
              "<div>\n",
              "<style scoped>\n",
              "    .dataframe tbody tr th:only-of-type {\n",
              "        vertical-align: middle;\n",
              "    }\n",
              "\n",
              "    .dataframe tbody tr th {\n",
              "        vertical-align: top;\n",
              "    }\n",
              "\n",
              "    .dataframe thead th {\n",
              "        text-align: right;\n",
              "    }\n",
              "</style>\n",
              "<table border=\"1\" class=\"dataframe\">\n",
              "  <thead>\n",
              "    <tr style=\"text-align: right;\">\n",
              "      <th></th>\n",
              "      <th>Hardness</th>\n",
              "      <th>Solids</th>\n",
              "      <th>Chloramines</th>\n",
              "      <th>Conductivity</th>\n",
              "      <th>Organic_carbon</th>\n",
              "      <th>Turbidity</th>\n",
              "    </tr>\n",
              "  </thead>\n",
              "  <tbody>\n",
              "    <tr>\n",
              "      <th>58</th>\n",
              "      <td>157.801194</td>\n",
              "      <td>16963.625012</td>\n",
              "      <td>8.335619</td>\n",
              "      <td>360.995994</td>\n",
              "      <td>12.823861</td>\n",
              "      <td>4.405386</td>\n",
              "    </tr>\n",
              "    <tr>\n",
              "      <th>128</th>\n",
              "      <td>228.300860</td>\n",
              "      <td>16600.392747</td>\n",
              "      <td>6.094001</td>\n",
              "      <td>504.050539</td>\n",
              "      <td>15.035047</td>\n",
              "      <td>3.809842</td>\n",
              "    </tr>\n",
              "    <tr>\n",
              "      <th>1672</th>\n",
              "      <td>137.253427</td>\n",
              "      <td>20593.933718</td>\n",
              "      <td>3.961111</td>\n",
              "      <td>520.410505</td>\n",
              "      <td>19.249550</td>\n",
              "      <td>3.302419</td>\n",
              "    </tr>\n",
              "    <tr>\n",
              "      <th>2243</th>\n",
              "      <td>205.482940</td>\n",
              "      <td>23268.243081</td>\n",
              "      <td>9.035769</td>\n",
              "      <td>371.403475</td>\n",
              "      <td>16.863668</td>\n",
              "      <td>2.686069</td>\n",
              "    </tr>\n",
              "    <tr>\n",
              "      <th>269</th>\n",
              "      <td>155.357557</td>\n",
              "      <td>15737.468938</td>\n",
              "      <td>7.251979</td>\n",
              "      <td>463.389256</td>\n",
              "      <td>17.854470</td>\n",
              "      <td>3.652134</td>\n",
              "    </tr>\n",
              "    <tr>\n",
              "      <th>...</th>\n",
              "      <td>...</td>\n",
              "      <td>...</td>\n",
              "      <td>...</td>\n",
              "      <td>...</td>\n",
              "      <td>...</td>\n",
              "      <td>...</td>\n",
              "    </tr>\n",
              "    <tr>\n",
              "      <th>2135</th>\n",
              "      <td>184.020029</td>\n",
              "      <td>13361.226016</td>\n",
              "      <td>9.258656</td>\n",
              "      <td>467.444154</td>\n",
              "      <td>19.581926</td>\n",
              "      <td>4.411058</td>\n",
              "    </tr>\n",
              "    <tr>\n",
              "      <th>1887</th>\n",
              "      <td>188.368741</td>\n",
              "      <td>26402.703957</td>\n",
              "      <td>4.074141</td>\n",
              "      <td>325.001116</td>\n",
              "      <td>16.917994</td>\n",
              "      <td>3.029700</td>\n",
              "    </tr>\n",
              "    <tr>\n",
              "      <th>2281</th>\n",
              "      <td>200.710330</td>\n",
              "      <td>26744.231526</td>\n",
              "      <td>6.833360</td>\n",
              "      <td>363.950991</td>\n",
              "      <td>14.144772</td>\n",
              "      <td>4.829754</td>\n",
              "    </tr>\n",
              "    <tr>\n",
              "      <th>317</th>\n",
              "      <td>77.459586</td>\n",
              "      <td>39227.619457</td>\n",
              "      <td>8.517986</td>\n",
              "      <td>410.856114</td>\n",
              "      <td>14.326889</td>\n",
              "      <td>3.309580</td>\n",
              "    </tr>\n",
              "    <tr>\n",
              "      <th>260</th>\n",
              "      <td>280.082411</td>\n",
              "      <td>26849.194735</td>\n",
              "      <td>6.130757</td>\n",
              "      <td>297.611540</td>\n",
              "      <td>15.571571</td>\n",
              "      <td>3.404633</td>\n",
              "    </tr>\n",
              "  </tbody>\n",
              "</table>\n",
              "<p>656 rows × 6 columns</p>\n",
              "</div>"
            ],
            "text/plain": [
              "        Hardness        Solids  ...  Organic_carbon  Turbidity\n",
              "58    157.801194  16963.625012  ...       12.823861   4.405386\n",
              "128   228.300860  16600.392747  ...       15.035047   3.809842\n",
              "1672  137.253427  20593.933718  ...       19.249550   3.302419\n",
              "2243  205.482940  23268.243081  ...       16.863668   2.686069\n",
              "269   155.357557  15737.468938  ...       17.854470   3.652134\n",
              "...          ...           ...  ...             ...        ...\n",
              "2135  184.020029  13361.226016  ...       19.581926   4.411058\n",
              "1887  188.368741  26402.703957  ...       16.917994   3.029700\n",
              "2281  200.710330  26744.231526  ...       14.144772   4.829754\n",
              "317    77.459586  39227.619457  ...       14.326889   3.309580\n",
              "260   280.082411  26849.194735  ...       15.571571   3.404633\n",
              "\n",
              "[656 rows x 6 columns]"
            ]
          },
          "metadata": {
            "tags": []
          },
          "execution_count": 14
        }
      ]
    },
    {
      "cell_type": "code",
      "metadata": {
        "id": "MfYBt4KuL_ZG"
      },
      "source": [
        "from sklearn.preprocessing import StandardScaler\n",
        "sc = StandardScaler()\n",
        "x_train = sc.fit_transform(x_train)\n",
        "#x_test = sc.transform(x_test)\n",
        "x_test = sc.fit_transform(x_test)"
      ],
      "execution_count": 15,
      "outputs": []
    },
    {
      "cell_type": "code",
      "metadata": {
        "colab": {
          "base_uri": "https://localhost:8080/"
        },
        "id": "rQZxqvDaQV7J",
        "outputId": "06177d18-c34c-4083-d962-d856e651c129"
      },
      "source": [
        "x_test"
      ],
      "execution_count": 16,
      "outputs": [
        {
          "output_type": "execute_result",
          "data": {
            "text/plain": [
              "array([[-1.18690540e+00, -5.92843314e-01,  7.55602673e-01,\n",
              "        -8.34067154e-01, -4.03115800e-01,  5.48115491e-01],\n",
              "       [ 1.00036966e+00, -6.33401330e-01, -6.41176533e-01,\n",
              "         9.55719972e-01,  2.68575007e-01, -2.42483408e-01],\n",
              "       [-1.82440654e+00, -1.87488034e-01, -1.97020588e+00,\n",
              "         1.16040314e+00,  1.54881255e+00, -9.16098670e-01],\n",
              "       ...,\n",
              "       [ 1.44364510e-01,  4.99245766e-01, -1.80472586e-01,\n",
              "        -7.97096540e-01, -1.86324476e-03,  1.11147385e+00],\n",
              "       [-3.67952987e+00,  1.89312370e+00,  8.69238118e-01,\n",
              "        -2.10256144e-01,  5.34582035e-02, -9.06592129e-01],\n",
              "       [ 2.60690908e+00,  5.10965814e-01, -6.18273420e-01,\n",
              "        -1.62708412e+00,  4.31554638e-01, -7.80407662e-01]])"
            ]
          },
          "metadata": {
            "tags": []
          },
          "execution_count": 16
        }
      ]
    },
    {
      "cell_type": "code",
      "metadata": {
        "id": "-CsjQ-6hMOnp"
      },
      "source": [
        "ann = tf.keras.models.Sequential()\n",
        "ann.add(tf.keras.layers.Dense(units=6, activation='relu'))\n",
        "ann.add(tf.keras.layers.Dense(units=6, activation='relu'))\n",
        "ann.add(tf.keras.layers.Dense(units=1, activation='sigmoid'))"
      ],
      "execution_count": 17,
      "outputs": []
    },
    {
      "cell_type": "code",
      "metadata": {
        "id": "dZIyXgrsMQ8R"
      },
      "source": [
        "ann.compile(optimizer = 'adam', loss = 'binary_crossentropy', metrics = ['accuracy'])"
      ],
      "execution_count": 18,
      "outputs": []
    },
    {
      "cell_type": "code",
      "metadata": {
        "colab": {
          "base_uri": "https://localhost:8080/"
        },
        "id": "p2Xd72l_MSK5",
        "outputId": "3732b19d-126a-48d5-b2a8-478127db13c5"
      },
      "source": [
        "ann.fit(x_train, y_train, batch_size = 32, epochs = 3)"
      ],
      "execution_count": 23,
      "outputs": [
        {
          "output_type": "stream",
          "text": [
            "Epoch 1/3\n",
            "82/82 [==============================] - 0s 2ms/step - loss: 0.6710 - accuracy: 0.6130\n",
            "Epoch 2/3\n",
            "82/82 [==============================] - 0s 2ms/step - loss: 0.6702 - accuracy: 0.6130\n",
            "Epoch 3/3\n",
            "82/82 [==============================] - 0s 2ms/step - loss: 0.6692 - accuracy: 0.6130\n"
          ],
          "name": "stdout"
        },
        {
          "output_type": "execute_result",
          "data": {
            "text/plain": [
              "<tensorflow.python.keras.callbacks.History at 0x7f45eb7df850>"
            ]
          },
          "metadata": {
            "tags": []
          },
          "execution_count": 23
        }
      ]
    },
    {
      "cell_type": "code",
      "metadata": {
        "colab": {
          "base_uri": "https://localhost:8080/"
        },
        "id": "Ti_uohI6Me9c",
        "outputId": "4c498191-bb86-45c3-c147-0f19a09a1e27"
      },
      "source": [
        "test_ans = ann.predict_classes(x_test)\n",
        "correct_cnt = 0\n",
        "for cnt, i in enumerate(test_ans):\n",
        "    if i == y_test.iloc[cnt]:\n",
        "        correct_cnt += 1\n",
        "\n",
        "# print test data accuracy\n",
        "print(f\"Accuracy is {(correct_cnt / len(y_test) * 100)} %\")\n",
        "\n",
        "# print first ten guess and correct ans\n",
        "for i in range(10):\n",
        "    print(f\"{test_ans[i][0]} : {y_test.iloc[i]}\")"
      ],
      "execution_count": 24,
      "outputs": [
        {
          "output_type": "stream",
          "text": [
            "Accuracy is 59.756097560975604 %\n",
            "0 : 0\n",
            "0 : 0\n",
            "0 : 0\n",
            "0 : 0\n",
            "0 : 1\n",
            "0 : 1\n",
            "0 : 1\n",
            "0 : 0\n",
            "0 : 1\n",
            "0 : 0\n"
          ],
          "name": "stdout"
        },
        {
          "output_type": "stream",
          "text": [
            "/usr/local/lib/python3.7/dist-packages/tensorflow/python/keras/engine/sequential.py:455: UserWarning: `model.predict_classes()` is deprecated and will be removed after 2021-01-01. Please use instead:* `np.argmax(model.predict(x), axis=-1)`,   if your model does multi-class classification   (e.g. if it uses a `softmax` last-layer activation).* `(model.predict(x) > 0.5).astype(\"int32\")`,   if your model does binary classification   (e.g. if it uses a `sigmoid` last-layer activation).\n",
            "  warnings.warn('`model.predict_classes()` is deprecated and '\n"
          ],
          "name": "stderr"
        }
      ]
    }
  ]
}